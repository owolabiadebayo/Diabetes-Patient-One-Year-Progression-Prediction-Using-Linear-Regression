{
 "cells": [
  {
   "cell_type": "markdown",
   "source": [
    "## intro  Machine Learning Model (Regression)"
   ],
   "metadata": {}
  },
  {
   "cell_type": "markdown",
   "source": [
    "### In this section, we will work with a small dataset about diabetes that is built into Scikit-learn for learning purposes. Imagine that you wanted to test a treatment for diabetic patients. Machine Learning models might help you determine which patients would respond better to the treatment, based on combinations of variables. Even a very basic regression model, when visualized, might show information about variables that would help you organize your theoretical clinical trials"
   ],
   "metadata": {}
  },
  {
   "cell_type": "code",
   "execution_count": 21,
   "source": [
    "import matplotlib.pyplot as plt\r\n",
    "import numpy as np\r\n",
    "from sklearn import datasets, linear_model, model_selection\r\n"
   ],
   "outputs": [],
   "metadata": {}
  },
  {
   "cell_type": "markdown",
   "source": [
    "> In a new code cell, load the diabetes dataset by calling load_diabetes(). The input return_X_y=True signals that X will be a data matrix, and y will be the regression target.~"
   ],
   "metadata": {}
  },
  {
   "cell_type": "code",
   "execution_count": 22,
   "source": [
    "X, y = datasets.load_diabetes(return_X_y=True)\r\n",
    "print(X.shape)\r\n",
    "print(X[0])"
   ],
   "outputs": [
    {
     "output_type": "stream",
     "name": "stdout",
     "text": [
      "(442, 10)\n",
      "[ 0.03807591  0.05068012  0.06169621  0.02187235 -0.0442235  -0.03482076\n",
      " -0.04340085 -0.00259226  0.01990842 -0.01764613]\n"
     ]
    }
   ],
   "metadata": {}
  },
  {
   "cell_type": "markdown",
   "source": [
    "> Ten baseline variables, age, sex, body mass index, average blood pressure, and six blood serum measurements were obtained for each of n = 442 diabetes patients, as well as the response of interest, a quantitative measure of disease progression one year after baseline."
   ],
   "metadata": {}
  },
  {
   "cell_type": "markdown",
   "source": [
    "#### Data Set Characteristic"
   ],
   "metadata": {}
  },
  {
   "cell_type": "markdown",
   "source": [
    "> Number of instance 442\r\n",
    "> Number of attributes: First 10 columns are numeric predictive values\r\n",
    "> Target: Column 11 is a quantitative measure of disease progression one year after baseline"
   ],
   "metadata": {}
  },
  {
   "cell_type": "markdown",
   "source": [
    "#### Attribute Information"
   ],
   "metadata": {}
  },
  {
   "cell_type": "markdown",
   "source": [
    "* age age in years\r\n",
    "\r\n",
    "* sex\r\n",
    "\r\n",
    "* bmi body mass index\r\n",
    "\r\n",
    "* bp average blood pressure\r\n",
    "\r\n",
    "* s1 tc, total serum cholesterol\r\n",
    "\r\n",
    "* s2 ldl, low-density lipoproteins\r\n",
    "\r\n",
    "* s3 hdl, high-density lipoproteins\r\n",
    "\r\n",
    "* s4 tch, total cholesterol / HDL\r\n",
    "\r\n",
    "* s5 ltg, possibly log of serum triglycerides level\r\n",
    "\r\n",
    "* s6 glu, blood sugar level"
   ],
   "metadata": {}
  },
  {
   "cell_type": "markdown",
   "source": [
    "Select a portion of this dataset to plot by arranging it into a new array using numpy's newaxis function."
   ],
   "metadata": {}
  },
  {
   "cell_type": "code",
   "execution_count": 23,
   "source": [
    "X = X[:, np.newaxis, 4]\r\n",
    "X.shape"
   ],
   "outputs": [
    {
     "output_type": "execute_result",
     "data": {
      "text/plain": [
       "(442, 1)"
      ]
     },
     "metadata": {},
     "execution_count": 23
    }
   ],
   "metadata": {}
  },
  {
   "cell_type": "markdown",
   "source": [
    ">Next Step is to see if a machine can help determine a logical split between the numbers in this dataset. \r\n",
    "i. split both the data (X) and the target (y) into test and training sets."
   ],
   "metadata": {}
  },
  {
   "cell_type": "code",
   "execution_count": 24,
   "source": [
    "X_train, X_test, y_train, y_test = model_selection.train_test_split(X, y, test_size=0.33)"
   ],
   "outputs": [],
   "metadata": {}
  },
  {
   "cell_type": "markdown",
   "source": [
    "> Now you are ready to train your model! Load up the linear regression model and train it with your X and y training sets using model.fit():"
   ],
   "metadata": {}
  },
  {
   "cell_type": "code",
   "execution_count": 25,
   "source": [
    "model = linear_model.LinearRegression()\r\n",
    "model.fit(X_train, y_train)"
   ],
   "outputs": [
    {
     "output_type": "execute_result",
     "data": {
      "text/plain": [
       "LinearRegression()"
      ]
     },
     "metadata": {},
     "execution_count": 25
    }
   ],
   "metadata": {}
  },
  {
   "cell_type": "markdown",
   "source": [
    "> Then, create a prediction using test data, using the function predict(). This will be used to draw the line between data groups"
   ],
   "metadata": {}
  },
  {
   "cell_type": "code",
   "execution_count": 26,
   "source": [
    "y_pred = model.predict(X_test)"
   ],
   "outputs": [],
   "metadata": {}
  },
  {
   "cell_type": "markdown",
   "source": [
    "> Now it's time to show the data in a plot. Matplotlib is a very useful tool for this task. Create a scatterplot of all the X and y test data, and use the prediction to draw a line in the most appropriate place, between the model's data groupings."
   ],
   "metadata": {}
  },
  {
   "cell_type": "code",
   "execution_count": 27,
   "source": [
    "plt.scatter(X_test, y_test,  color='black')\r\n",
    "fig=plt.plot(X_test, y_pred, color='red', linewidth=3)\r\n",
    "plt.xlabel('Diabetes Patient bp.average Blood pressure')\r\n",
    "plt.ylabel('Disease Progression')\r\n",
    "plt.title('A Graph Plot Showing Diabetes Progression Against bp.Average Blood Pressure')\r\n",
    "plt.show()\r\n"
   ],
   "outputs": [
    {
     "output_type": "display_data",
     "data": {
      "image/png": "[encoded data removed]",
      "text/plain": [
       "<Figure size 432x288 with 1 Axes>"
      ]
     },
     "metadata": {
      "needs_background": "light"
     }
    }
   ],
   "metadata": {}
  }
 ],
 "metadata": {
  "orig_nbformat": 4,
  "language_info": {
   "name": "python",
   "version": "3.9.6",
   "mimetype": "text/x-python",
   "codemirror_mode": {
    "name": "ipython",
    "version": 3
   },
   "pygments_lexer": "ipython3",
   "nbconvert_exporter": "python",
   "file_extension": ".py"
  },
  "kernelspec": {
   "name": "python3",
   "display_name": "Python 3.9.6 64-bit"
  },
  "interpreter": {
   "hash": "adf13407241d99058d9a17b30c3777ecd5e2e33e10132967e127b35f6db42353"
  }
 },
 "nbformat": 4,
 "nbformat_minor": 2
}